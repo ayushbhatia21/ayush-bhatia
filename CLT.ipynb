{
 "cells": [
  {
   "cell_type": "code",
   "execution_count": null,
   "metadata": {},
   "outputs": [],
   "source": [
    "from scipy import misc\n",
    "import scipy\n",
    "import scipy.io as sio\n",
    "import imageio\n",
    "import numpy as np\n",
    "import cv2\n",
    "import matplotlib.pyplot as plt\n",
    "from sklearn import preprocessing\n",
    "from scipy.stats import kurtosis\n",
    "import random\n",
    "\n"
   ]
  },
  {
   "cell_type": "code",
   "execution_count": null,
   "metadata": {},
   "outputs": [],
   "source": [
    "img1 = imageio.imread('luddy1.jpeg')\n",
    "img2 = imageio.imread('luddy2.jpeg')\n",
    "img3 = imageio.imread('luddy3.jpeg')"
   ]
  },
  {
   "cell_type": "code",
   "execution_count": null,
   "metadata": {},
   "outputs": [],
   "source": [
    "type(img1)\n",
    "type(img2)\n",
    "type(img3)"
   ]
  },
  {
   "cell_type": "code",
   "execution_count": null,
   "metadata": {},
   "outputs": [],
   "source": [
    "print(img1.shape)\n",
    "print(img2.shape)\n",
    "print(img3.shape)"
   ]
  },
  {
   "cell_type": "code",
   "execution_count": null,
   "metadata": {},
   "outputs": [],
   "source": [
    "x1, y1, rgb1 = img1.shape\n",
    "x2, y2, rgb2 = img2.shape\n",
    "x3, y3, rgb3 = img3.shape\n",
    "\n",
    "size1 = x1*y1*rgb1\n",
    "size2 = x2*y2*rgb1\n",
    "size3 = x3*y3*rgb1\n",
    "\n",
    "img1_vector = img1.reshape(size1)\n",
    "img2_vector = img2.reshape(size2)\n",
    "img3_vector = img3.reshape(size3)\n",
    "\n",
    "print(img1_vector.shape)\n",
    "print(img2_vector.shape)\n",
    "print(img3_vector.shape)"
   ]
  },
  {
   "cell_type": "code",
   "execution_count": null,
   "metadata": {},
   "outputs": [],
   "source": [
    "hist_1 = cv2.calcHist([img1],[0],None,[256],[0,256])\n",
    "plt.plot(hist_1)"
   ]
  },
  {
   "cell_type": "code",
   "execution_count": null,
   "metadata": {},
   "outputs": [],
   "source": [
    "hist_2 = cv2.calcHist([img2],[0],None,[256],[0,256])\n",
    "plt.plot(hist_2)"
   ]
  },
  {
   "cell_type": "code",
   "execution_count": null,
   "metadata": {},
   "outputs": [],
   "source": [
    "hist_3 = cv2.calcHist([img3],[0],None,[256],[0,256])\n",
    "plt.plot(hist_3)"
   ]
  },
  {
   "cell_type": "code",
   "execution_count": null,
   "metadata": {},
   "outputs": [],
   "source": [
    "img1_vector = (img1_vector - np.mean(img1_vector))/np.std(img1_vector)\n",
    "img2_vector = (img2_vector - np.mean(img2_vector))/np.std(img2_vector)\n",
    "img3_vector = (img3_vector - np.mean(img3_vector))/np.std(img3_vector)"
   ]
  },
  {
   "cell_type": "code",
   "execution_count": null,
   "metadata": {},
   "outputs": [],
   "source": [
    "mean1 = [np.mean(np.random.choice(img1_vector,50)) for i in range(1000)]\n",
    "mean2 = [np.mean(np.random.choice(img2_vector,50)) for i in range(1000)]\n",
    "mean3 = [np.mean(np.random.choice(img3_vector,50)) for i in range(1000)]\n"
   ]
  },
  {
   "cell_type": "code",
   "execution_count": null,
   "metadata": {},
   "outputs": [],
   "source": [
    "plt.hist(mean1, bins = 100)"
   ]
  },
  {
   "cell_type": "code",
   "execution_count": null,
   "metadata": {},
   "outputs": [],
   "source": [
    "plt.hist(mean2,bins=100)"
   ]
  },
  {
   "cell_type": "code",
   "execution_count": null,
   "metadata": {},
   "outputs": [],
   "source": [
    "plt.hist(mean3,bins=100)"
   ]
  },
  {
   "cell_type": "code",
   "execution_count": null,
   "metadata": {},
   "outputs": [],
   "source": [
    "n = 2359296\n",
    "k1 = (1/n)*np.sum(((img1_vector - np.mean(img1_vector))/np.std(img1_vector))**4) - 3\n",
    "print(k1)"
   ]
  },
  {
   "cell_type": "code",
   "execution_count": null,
   "metadata": {},
   "outputs": [],
   "source": [
    "k2 = (1/n)*np.sum(((img2_vector - np.mean(img2_vector))/np.std(img2_vector))**4) - 3\n",
    "print(k2)"
   ]
  },
  {
   "cell_type": "code",
   "execution_count": null,
   "metadata": {},
   "outputs": [],
   "source": [
    "k3 = (1/n)*np.sum(((img3_vector - np.mean(img3_vector))/np.std(img3_vector))**4) - 3\n",
    "print(k3)"
   ]
  }
 ],
 "metadata": {
  "kernelspec": {
   "display_name": "Python 3",
   "language": "python",
   "name": "python3"
  },
  "language_info": {
   "codemirror_mode": {
    "name": "ipython",
    "version": 3
   },
   "file_extension": ".py",
   "mimetype": "text/x-python",
   "name": "python",
   "nbconvert_exporter": "python",
   "pygments_lexer": "ipython3",
   "version": "3.7.3"
  }
 },
 "nbformat": 4,
 "nbformat_minor": 2
}
